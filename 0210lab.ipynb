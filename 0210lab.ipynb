{
  "cells": [
    {
      "cell_type": "markdown",
      "metadata": {
        "id": "view-in-github",
        "colab_type": "text"
      },
      "source": [
        "<a href=\"https://colab.research.google.com/github/cdong22ucla/lab0113/blob/main/0210lab.ipynb\" target=\"_parent\"><img src=\"https://colab.research.google.com/assets/colab-badge.svg\" alt=\"Open In Colab\"/></a>"
      ]
    },
    {
      "cell_type": "markdown",
      "metadata": {
        "id": "7ywSRtNI4s5h"
      },
      "source": [
        "# 0.) Import the US Perminent Visas using zip extractor"
      ]
    },
    {
      "cell_type": "code",
      "execution_count": null,
      "metadata": {
        "id": "nsG1QV154GYZ"
      },
      "outputs": [],
      "source": [
        "import pandas as pd\n",
        "from google.colab import drive\n",
        "import matplotlib.pyplot as plt\n",
        "import numpy as np"
      ]
    },
    {
      "cell_type": "code",
      "execution_count": null,
      "metadata": {
        "id": "kZ1o0a3dEDY2",
        "colab": {
          "base_uri": "https://localhost:8080/"
        },
        "outputId": "feade832-bde9-4aa6-fd21-5a2c6cbf27af"
      },
      "outputs": [
        {
          "output_type": "stream",
          "name": "stdout",
          "text": [
            "Mounted at /content/gdrive/\n"
          ]
        }
      ],
      "source": [
        "drive.mount('/content/gdrive/', force_remount = True)"
      ]
    },
    {
      "cell_type": "code",
      "execution_count": null,
      "metadata": {
        "id": "Q7XmCWs_rULl",
        "colab": {
          "base_uri": "https://localhost:8080/"
        },
        "outputId": "50a9da7c-14eb-47a0-e9d8-415bbc24efab"
      },
      "outputs": [
        {
          "output_type": "stream",
          "name": "stderr",
          "text": [
            "/usr/local/lib/python3.8/dist-packages/IPython/core/interactiveshell.py:3326: DtypeWarning: Columns (0,1,2,3,4,5,6,7,10,11,16,17,20,21,22,25,26,27,28,29,30,31,32,33,34,35,36,37,39,40,41,42,43,44,45,47,48,49,50,51,52,53,55,56,57,58,59,60,61,63,64,65,66,68,69,70,71,72,73,74,77,79,80,81,82,83,84,85,86,87,88,89,90,91,92,93,94,95,100,101,103,104,105,106,107,108,109,110,111,112,113,114,115,116,117,118,119,120,121,122,123,124,125,126,127,128,129,130,131,132,133,134,135,136,137,138,139,140,141,142,143,144,145,146,147,148,149,150,153) have mixed types.Specify dtype option on import or set low_memory=False.\n",
            "  exec(code_obj, self.user_global_ns, self.user_ns)\n"
          ]
        }
      ],
      "source": [
        "import zipfile\n",
        "\n",
        "zf = zipfile.ZipFile(\"/content/gdrive/MyDrive/441B/us_perm_visas.csv.zip\") \n",
        "df = pd.read_csv(zf.open('us_perm_visas.csv'))"
      ]
    },
    {
      "cell_type": "markdown",
      "metadata": {
        "id": "lbkpNPyN-Gnk"
      },
      "source": [
        "# 2.) Choose 4 features you think are important. Case_status is your target variable\n"
      ]
    },
    {
      "cell_type": "code",
      "execution_count": null,
      "metadata": {
        "id": "zNe-INrKSNcY",
        "colab": {
          "base_uri": "https://localhost:8080/"
        },
        "outputId": "95bc75b2-8c45-4a7f-9765-fb4d64b4601b"
      },
      "outputs": [
        {
          "output_type": "stream",
          "name": "stdout",
          "text": [
            "add_these_pw_job_title_9089\n",
            "agent_city\n",
            "agent_firm_name\n",
            "agent_state\n",
            "application_type\n",
            "case_no\n",
            "case_number\n",
            "case_received_date\n",
            "case_status\n",
            "class_of_admission\n",
            "country_of_citizenship\n",
            "country_of_citzenship\n",
            "decision_date\n",
            "employer_address_1\n",
            "employer_address_2\n",
            "employer_city\n",
            "employer_country\n",
            "employer_decl_info_title\n",
            "employer_name\n",
            "employer_num_employees\n",
            "employer_phone\n",
            "employer_phone_ext\n",
            "employer_postal_code\n",
            "employer_state\n",
            "employer_yr_estab\n",
            "foreign_worker_info_alt_edu_experience\n",
            "foreign_worker_info_birth_country\n",
            "foreign_worker_info_city\n",
            "foreign_worker_info_education\n",
            "foreign_worker_info_education_other\n",
            "foreign_worker_info_inst\n",
            "foreign_worker_info_major\n",
            "foreign_worker_info_postal_code\n",
            "foreign_worker_info_rel_occup_exp\n",
            "foreign_worker_info_req_experience\n",
            "foreign_worker_info_state\n",
            "foreign_worker_info_training_comp\n",
            "foreign_worker_ownership_interest\n",
            "foreign_worker_yr_rel_edu_completed\n",
            "fw_info_alt_edu_experience\n",
            "fw_info_birth_country\n",
            "fw_info_education_other\n",
            "fw_info_postal_code\n",
            "fw_info_rel_occup_exp\n",
            "fw_info_req_experience\n",
            "fw_info_training_comp\n",
            "fw_info_yr_rel_edu_completed\n",
            "fw_ownership_interest\n",
            "ji_foreign_worker_live_on_premises\n",
            "ji_fw_live_on_premises\n",
            "ji_live_in_dom_svc_contract\n",
            "ji_live_in_domestic_service\n",
            "ji_offered_to_sec_j_foreign_worker\n",
            "ji_offered_to_sec_j_fw\n",
            "job_info_alt_cmb_ed_oth_yrs\n",
            "job_info_alt_combo_ed\n",
            "job_info_alt_combo_ed_exp\n",
            "job_info_alt_combo_ed_other\n",
            "job_info_alt_field\n",
            "job_info_alt_field_name\n",
            "job_info_alt_occ\n",
            "job_info_alt_occ_job_title\n",
            "job_info_alt_occ_num_months\n",
            "job_info_combo_occupation\n",
            "job_info_education\n",
            "job_info_education_other\n",
            "job_info_experience\n",
            "job_info_experience_num_months\n",
            "job_info_foreign_ed\n",
            "job_info_foreign_lang_req\n",
            "job_info_job_req_normal\n",
            "job_info_job_title\n",
            "job_info_major\n",
            "job_info_training\n",
            "job_info_training_field\n",
            "job_info_training_num_months\n",
            "job_info_work_city\n",
            "job_info_work_postal_code\n",
            "job_info_work_state\n",
            "naics_2007_us_code\n",
            "naics_2007_us_title\n",
            "naics_code\n",
            "naics_title\n",
            "naics_us_code\n",
            "naics_us_code_2007\n",
            "naics_us_title\n",
            "naics_us_title_2007\n",
            "orig_case_no\n",
            "orig_file_date\n",
            "preparer_info_emp_completed\n",
            "preparer_info_title\n",
            "pw_amount_9089\n",
            "pw_determ_date\n",
            "pw_expire_date\n",
            "pw_job_title_908\n",
            "pw_job_title_9089\n",
            "pw_level_9089\n",
            "pw_soc_code\n",
            "pw_soc_title\n",
            "pw_source_name_9089\n",
            "pw_source_name_other_9089\n",
            "pw_track_num\n",
            "pw_unit_of_pay_9089\n",
            "rec_info_barg_rep_notified\n",
            "recr_info_barg_rep_notified\n",
            "recr_info_coll_teach_comp_proc\n",
            "recr_info_coll_univ_teacher\n",
            "recr_info_employer_rec_payment\n",
            "recr_info_first_ad_start\n",
            "recr_info_job_fair_from\n",
            "recr_info_job_fair_to\n",
            "recr_info_on_campus_recr_from\n",
            "recr_info_on_campus_recr_to\n",
            "recr_info_pro_org_advert_from\n",
            "recr_info_pro_org_advert_to\n",
            "recr_info_prof_org_advert_from\n",
            "recr_info_prof_org_advert_to\n",
            "recr_info_professional_occ\n",
            "recr_info_radio_tv_ad_from\n",
            "recr_info_radio_tv_ad_to\n",
            "recr_info_second_ad_start\n",
            "recr_info_sunday_newspaper\n",
            "recr_info_swa_job_order_end\n",
            "recr_info_swa_job_order_start\n",
            "refile\n",
            "ri_1st_ad_newspaper_name\n",
            "ri_2nd_ad_newspaper_name\n",
            "ri_2nd_ad_newspaper_or_journal\n",
            "ri_campus_placement_from\n",
            "ri_campus_placement_to\n",
            "ri_coll_tch_basic_process\n",
            "ri_coll_teach_pro_jnl\n",
            "ri_coll_teach_select_date\n",
            "ri_employee_referral_prog_from\n",
            "ri_employee_referral_prog_to\n",
            "ri_employer_web_post_from\n",
            "ri_employer_web_post_to\n",
            "ri_job_search_website_from\n",
            "ri_job_search_website_to\n",
            "ri_layoff_in_past_six_months\n",
            "ri_local_ethnic_paper_from\n",
            "ri_local_ethnic_paper_to\n",
            "ri_posted_notice_at_worksite\n",
            "ri_pvt_employment_firm_from\n",
            "ri_pvt_employment_firm_to\n",
            "ri_us_workers_considered\n",
            "schd_a_sheepherder\n",
            "us_economic_sector\n",
            "wage_offer_from_9089\n",
            "wage_offer_to_9089\n",
            "wage_offer_unit_of_pay_9089\n",
            "wage_offered_from_9089\n",
            "wage_offered_to_9089\n",
            "wage_offered_unit_of_pay_9089\n"
          ]
        }
      ],
      "source": [
        "for i in df.columns:\n",
        "  print(i)"
      ]
    },
    {
      "cell_type": "code",
      "execution_count": null,
      "metadata": {
        "id": "18m_4JdnltB3"
      },
      "outputs": [],
      "source": [
        "df_select = df[['case_status', 'class_of_admission', 'pw_source_name_9089', 'pw_level_9089', 'pw_amount_9089']]"
      ]
    },
    {
      "cell_type": "markdown",
      "metadata": {
        "id": "bIJx2jvD-KEI"
      },
      "source": [
        "# 3.) Clean your data for a decision tree\n"
      ]
    },
    {
      "cell_type": "markdown",
      "metadata": {
        "id": "OX7uiQsysuqD"
      },
      "source": []
    },
    {
      "cell_type": "code",
      "execution_count": null,
      "metadata": {
        "id": "op1FJBpJqS8n"
      },
      "outputs": [],
      "source": [
        "df_select = df[(df['pw_unit_of_pay_9089'] == 'yr') | (df['pw_unit_of_pay_9089'] =='Year')]\\\n",
        "[['case_status', 'class_of_admission', 'pw_source_name_9089', 'pw_level_9089', 'pw_amount_9089']]\n",
        "df_select = df_select.dropna(axis = 0, how = 'any')"
      ]
    },
    {
      "cell_type": "code",
      "execution_count": null,
      "metadata": {
        "id": "JX4VcL7OsGFl",
        "colab": {
          "base_uri": "https://localhost:8080/",
          "height": 423
        },
        "outputId": "5c5f13fb-9273-4eb6-9f76-5b55ec6295b9"
      },
      "outputs": [
        {
          "output_type": "execute_result",
          "data": {
            "text/plain": [
              "       case_status class_of_admission pw_source_name_9089 pw_level_9089  \\\n",
              "0        Certified                J-1                 OES      Level II   \n",
              "1           Denied                B-2                 OES       Level I   \n",
              "2        Certified               H-1B                 OES       Level I   \n",
              "3        Certified                L-1                 OES      Level IV   \n",
              "4           Denied                EWI                 OES       Level I   \n",
              "...            ...                ...                 ...           ...   \n",
              "318470   Withdrawn               H-1B                 OES     Level III   \n",
              "318471   Withdrawn                L-1                 OES     Level III   \n",
              "318472   Withdrawn               H-1B                 OES      Level II   \n",
              "318473   Withdrawn                B-2                 OES     Level III   \n",
              "318474   Withdrawn               H-1B                 OES      Level II   \n",
              "\n",
              "       pw_amount_9089  \n",
              "0             75629.0  \n",
              "1             37024.0  \n",
              "2             47923.0  \n",
              "3             94890.0  \n",
              "4             37024.0  \n",
              "...               ...  \n",
              "318470     142,938.00  \n",
              "318471     107,744.00  \n",
              "318472      79,082.00  \n",
              "318473      37,981.00  \n",
              "318474      84,926.00  \n",
              "\n",
              "[318475 rows x 5 columns]"
            ],
            "text/html": [
              "\n",
              "  <div id=\"df-00320848-d591-4eb7-97d0-dc39f931fa8a\">\n",
              "    <div class=\"colab-df-container\">\n",
              "      <div>\n",
              "<style scoped>\n",
              "    .dataframe tbody tr th:only-of-type {\n",
              "        vertical-align: middle;\n",
              "    }\n",
              "\n",
              "    .dataframe tbody tr th {\n",
              "        vertical-align: top;\n",
              "    }\n",
              "\n",
              "    .dataframe thead th {\n",
              "        text-align: right;\n",
              "    }\n",
              "</style>\n",
              "<table border=\"1\" class=\"dataframe\">\n",
              "  <thead>\n",
              "    <tr style=\"text-align: right;\">\n",
              "      <th></th>\n",
              "      <th>case_status</th>\n",
              "      <th>class_of_admission</th>\n",
              "      <th>pw_source_name_9089</th>\n",
              "      <th>pw_level_9089</th>\n",
              "      <th>pw_amount_9089</th>\n",
              "    </tr>\n",
              "  </thead>\n",
              "  <tbody>\n",
              "    <tr>\n",
              "      <th>0</th>\n",
              "      <td>Certified</td>\n",
              "      <td>J-1</td>\n",
              "      <td>OES</td>\n",
              "      <td>Level II</td>\n",
              "      <td>75629.0</td>\n",
              "    </tr>\n",
              "    <tr>\n",
              "      <th>1</th>\n",
              "      <td>Denied</td>\n",
              "      <td>B-2</td>\n",
              "      <td>OES</td>\n",
              "      <td>Level I</td>\n",
              "      <td>37024.0</td>\n",
              "    </tr>\n",
              "    <tr>\n",
              "      <th>2</th>\n",
              "      <td>Certified</td>\n",
              "      <td>H-1B</td>\n",
              "      <td>OES</td>\n",
              "      <td>Level I</td>\n",
              "      <td>47923.0</td>\n",
              "    </tr>\n",
              "    <tr>\n",
              "      <th>3</th>\n",
              "      <td>Certified</td>\n",
              "      <td>L-1</td>\n",
              "      <td>OES</td>\n",
              "      <td>Level IV</td>\n",
              "      <td>94890.0</td>\n",
              "    </tr>\n",
              "    <tr>\n",
              "      <th>4</th>\n",
              "      <td>Denied</td>\n",
              "      <td>EWI</td>\n",
              "      <td>OES</td>\n",
              "      <td>Level I</td>\n",
              "      <td>37024.0</td>\n",
              "    </tr>\n",
              "    <tr>\n",
              "      <th>...</th>\n",
              "      <td>...</td>\n",
              "      <td>...</td>\n",
              "      <td>...</td>\n",
              "      <td>...</td>\n",
              "      <td>...</td>\n",
              "    </tr>\n",
              "    <tr>\n",
              "      <th>318470</th>\n",
              "      <td>Withdrawn</td>\n",
              "      <td>H-1B</td>\n",
              "      <td>OES</td>\n",
              "      <td>Level III</td>\n",
              "      <td>142,938.00</td>\n",
              "    </tr>\n",
              "    <tr>\n",
              "      <th>318471</th>\n",
              "      <td>Withdrawn</td>\n",
              "      <td>L-1</td>\n",
              "      <td>OES</td>\n",
              "      <td>Level III</td>\n",
              "      <td>107,744.00</td>\n",
              "    </tr>\n",
              "    <tr>\n",
              "      <th>318472</th>\n",
              "      <td>Withdrawn</td>\n",
              "      <td>H-1B</td>\n",
              "      <td>OES</td>\n",
              "      <td>Level II</td>\n",
              "      <td>79,082.00</td>\n",
              "    </tr>\n",
              "    <tr>\n",
              "      <th>318473</th>\n",
              "      <td>Withdrawn</td>\n",
              "      <td>B-2</td>\n",
              "      <td>OES</td>\n",
              "      <td>Level III</td>\n",
              "      <td>37,981.00</td>\n",
              "    </tr>\n",
              "    <tr>\n",
              "      <th>318474</th>\n",
              "      <td>Withdrawn</td>\n",
              "      <td>H-1B</td>\n",
              "      <td>OES</td>\n",
              "      <td>Level II</td>\n",
              "      <td>84,926.00</td>\n",
              "    </tr>\n",
              "  </tbody>\n",
              "</table>\n",
              "<p>318475 rows × 5 columns</p>\n",
              "</div>\n",
              "      <button class=\"colab-df-convert\" onclick=\"convertToInteractive('df-00320848-d591-4eb7-97d0-dc39f931fa8a')\"\n",
              "              title=\"Convert this dataframe to an interactive table.\"\n",
              "              style=\"display:none;\">\n",
              "        \n",
              "  <svg xmlns=\"http://www.w3.org/2000/svg\" height=\"24px\"viewBox=\"0 0 24 24\"\n",
              "       width=\"24px\">\n",
              "    <path d=\"M0 0h24v24H0V0z\" fill=\"none\"/>\n",
              "    <path d=\"M18.56 5.44l.94 2.06.94-2.06 2.06-.94-2.06-.94-.94-2.06-.94 2.06-2.06.94zm-11 1L8.5 8.5l.94-2.06 2.06-.94-2.06-.94L8.5 2.5l-.94 2.06-2.06.94zm10 10l.94 2.06.94-2.06 2.06-.94-2.06-.94-.94-2.06-.94 2.06-2.06.94z\"/><path d=\"M17.41 7.96l-1.37-1.37c-.4-.4-.92-.59-1.43-.59-.52 0-1.04.2-1.43.59L10.3 9.45l-7.72 7.72c-.78.78-.78 2.05 0 2.83L4 21.41c.39.39.9.59 1.41.59.51 0 1.02-.2 1.41-.59l7.78-7.78 2.81-2.81c.8-.78.8-2.07 0-2.86zM5.41 20L4 18.59l7.72-7.72 1.47 1.35L5.41 20z\"/>\n",
              "  </svg>\n",
              "      </button>\n",
              "      \n",
              "  <style>\n",
              "    .colab-df-container {\n",
              "      display:flex;\n",
              "      flex-wrap:wrap;\n",
              "      gap: 12px;\n",
              "    }\n",
              "\n",
              "    .colab-df-convert {\n",
              "      background-color: #E8F0FE;\n",
              "      border: none;\n",
              "      border-radius: 50%;\n",
              "      cursor: pointer;\n",
              "      display: none;\n",
              "      fill: #1967D2;\n",
              "      height: 32px;\n",
              "      padding: 0 0 0 0;\n",
              "      width: 32px;\n",
              "    }\n",
              "\n",
              "    .colab-df-convert:hover {\n",
              "      background-color: #E2EBFA;\n",
              "      box-shadow: 0px 1px 2px rgba(60, 64, 67, 0.3), 0px 1px 3px 1px rgba(60, 64, 67, 0.15);\n",
              "      fill: #174EA6;\n",
              "    }\n",
              "\n",
              "    [theme=dark] .colab-df-convert {\n",
              "      background-color: #3B4455;\n",
              "      fill: #D2E3FC;\n",
              "    }\n",
              "\n",
              "    [theme=dark] .colab-df-convert:hover {\n",
              "      background-color: #434B5C;\n",
              "      box-shadow: 0px 1px 3px 1px rgba(0, 0, 0, 0.15);\n",
              "      filter: drop-shadow(0px 1px 2px rgba(0, 0, 0, 0.3));\n",
              "      fill: #FFFFFF;\n",
              "    }\n",
              "  </style>\n",
              "\n",
              "      <script>\n",
              "        const buttonEl =\n",
              "          document.querySelector('#df-00320848-d591-4eb7-97d0-dc39f931fa8a button.colab-df-convert');\n",
              "        buttonEl.style.display =\n",
              "          google.colab.kernel.accessAllowed ? 'block' : 'none';\n",
              "\n",
              "        async function convertToInteractive(key) {\n",
              "          const element = document.querySelector('#df-00320848-d591-4eb7-97d0-dc39f931fa8a');\n",
              "          const dataTable =\n",
              "            await google.colab.kernel.invokeFunction('convertToInteractive',\n",
              "                                                     [key], {});\n",
              "          if (!dataTable) return;\n",
              "\n",
              "          const docLinkHtml = 'Like what you see? Visit the ' +\n",
              "            '<a target=\"_blank\" href=https://colab.research.google.com/notebooks/data_table.ipynb>data table notebook</a>'\n",
              "            + ' to learn more about interactive tables.';\n",
              "          element.innerHTML = '';\n",
              "          dataTable['output_type'] = 'display_data';\n",
              "          await google.colab.output.renderOutput(dataTable, element);\n",
              "          const docLink = document.createElement('div');\n",
              "          docLink.innerHTML = docLinkHtml;\n",
              "          element.appendChild(docLink);\n",
              "        }\n",
              "      </script>\n",
              "    </div>\n",
              "  </div>\n",
              "  "
            ]
          },
          "metadata": {},
          "execution_count": 7
        }
      ],
      "source": [
        "df_select.reset_index(drop=True, inplace=True)\n",
        "df_select"
      ]
    },
    {
      "cell_type": "code",
      "execution_count": null,
      "metadata": {
        "id": "w1jNTe2VoRw9"
      },
      "outputs": [],
      "source": [
        "X = pd.get_dummies(df_select[['class_of_admission', 'pw_source_name_9089', 'pw_level_9089']])"
      ]
    },
    {
      "cell_type": "code",
      "source": [
        "X['pw_amount_9089'] = [float(str(i).replace(\",\", \"\")) for i in df_select[\"pw_amount_9089\"]]"
      ],
      "metadata": {
        "id": "6naNqcF6QuZu"
      },
      "execution_count": null,
      "outputs": []
    },
    {
      "cell_type": "code",
      "execution_count": null,
      "metadata": {
        "id": "vPWZvbKKMkAe"
      },
      "outputs": [],
      "source": [
        "y = df_select[\"case_status\"]"
      ]
    },
    {
      "cell_type": "markdown",
      "metadata": {
        "id": "PeurmqI4-OoC"
      },
      "source": [
        "# 4.) Fit and plot a decision tree of depth X\n"
      ]
    },
    {
      "cell_type": "code",
      "execution_count": null,
      "metadata": {
        "id": "mAO9FL6VGVZX"
      },
      "outputs": [],
      "source": [
        "from sklearn import tree"
      ]
    },
    {
      "cell_type": "code",
      "execution_count": null,
      "metadata": {
        "id": "udwK0byx-RLA",
        "colab": {
          "base_uri": "https://localhost:8080/"
        },
        "outputId": "7ce46051-b0a6-4169-fae5-4ff1b30faef1"
      },
      "outputs": [
        {
          "output_type": "execute_result",
          "data": {
            "text/plain": [
              "DecisionTreeClassifier(max_depth=3)"
            ]
          },
          "metadata": {},
          "execution_count": 12
        }
      ],
      "source": [
        "clf = tree.DecisionTreeClassifier(max_depth = 3)\n",
        "clf.fit(X,y)"
      ]
    },
    {
      "cell_type": "code",
      "source": [
        "plt.figure(figsize = (20,8))\n",
        "tree.plot_tree(clf, feature_names = X.columns, class_names = y, filled = True)"
      ],
      "metadata": {
        "id": "05CLDFfaTZyO",
        "colab": {
          "base_uri": "https://localhost:8080/",
          "height": 738
        },
        "outputId": "29787a9c-bd7c-4a99-ebda-3a78e27d4fea"
      },
      "execution_count": null,
      "outputs": [
        {
          "output_type": "execute_result",
          "data": {
            "text/plain": [
              "[Text(0.5, 0.875, 'pw_amount_9089 <= 81570.0\\ngini = 0.587\\nsamples = 318475\\nvalue = [156539, 129897, 17180, 14859]\\nclass = Certified'),\n",
              " Text(0.25, 0.625, 'pw_amount_9089 <= 52331.5\\ngini = 0.611\\nsamples = 131971\\nvalue = [60293, 54635, 10257, 6786]\\nclass = Certified'),\n",
              " Text(0.125, 0.375, 'class_of_admission_H-1B <= 0.5\\ngini = 0.645\\nsamples = 36847\\nvalue = [16856, 13107, 4505, 2379]\\nclass = Certified'),\n",
              " Text(0.0625, 0.125, 'gini = 0.663\\nsamples = 17252\\nvalue = [8016, 5188, 2696, 1352]\\nclass = Certified'),\n",
              " Text(0.1875, 0.125, 'gini = 0.622\\nsamples = 19595\\nvalue = [8840, 7919, 1809, 1027]\\nclass = Certified'),\n",
              " Text(0.375, 0.375, 'pw_amount_9089 <= 54059.6\\ngini = 0.595\\nsamples = 95124\\nvalue = [43437, 41528, 5752, 4407]\\nclass = Certified'),\n",
              " Text(0.3125, 0.125, 'gini = 0.531\\nsamples = 4183\\nvalue = [1227, 2574, 221, 161]\\nclass = Denied'),\n",
              " Text(0.4375, 0.125, 'gini = 0.595\\nsamples = 90941\\nvalue = [42210, 38954, 5531, 4246]\\nclass = Certified'),\n",
              " Text(0.75, 0.625, 'pw_amount_9089 <= 81993.801\\ngini = 0.568\\nsamples = 186504\\nvalue = [96246, 75262, 6923, 8073]\\nclass = Certified'),\n",
              " Text(0.625, 0.375, 'pw_level_9089_Level IV <= 0.5\\ngini = 0.297\\nsamples = 4516\\nvalue = [3731, 631, 69, 85]\\nclass = Certified'),\n",
              " Text(0.5625, 0.125, 'gini = 0.479\\nsamples = 2034\\nvalue = [1354, 560, 52, 68]\\nclass = Certified'),\n",
              " Text(0.6875, 0.125, 'gini = 0.082\\nsamples = 2482\\nvalue = [2377, 71, 17, 17]\\nclass = Certified'),\n",
              " Text(0.875, 0.375, 'pw_amount_9089 <= 117295.5\\ngini = 0.57\\nsamples = 181988\\nvalue = [92515, 74631, 6854, 7988]\\nclass = Certified'),\n",
              " Text(0.8125, 0.125, 'gini = 0.573\\nsamples = 136186\\nvalue = [67626, 57271, 5391, 5898]\\nclass = Certified'),\n",
              " Text(0.9375, 0.125, 'gini = 0.558\\nsamples = 45802\\nvalue = [24889, 17360, 1463, 2090]\\nclass = Certified')]"
            ]
          },
          "metadata": {},
          "execution_count": 13
        },
        {
          "output_type": "display_data",
          "data": {
            "text/plain": [
              "<Figure size 1440x576 with 1 Axes>"
            ],
            "image/png": "[encoded data removed]"
          },
          "metadata": {
            "needs_background": "light"
          }
        }
      ]
    },
    {
      "cell_type": "markdown",
      "metadata": {
        "id": "6isBwtmL-R4p"
      },
      "source": [
        "# 5.) Write your interpretation of the largest (by sample size) leaf node\n"
      ]
    },
    {
      "cell_type": "markdown",
      "source": [
        "The largest leaf node is 51993.301 <= pw_amount_9089 <= 117295.5, and it includes 136186 samples, which means the result of \"case_status\" through classfication is Certified when \"pw_amount_9089\" is larger than 51993.301 and also smaller than 117295.5."
      ],
      "metadata": {
        "id": "icVYmCdeXV1C"
      }
    },
    {
      "cell_type": "markdown",
      "metadata": {
        "id": "aQa3sanl-XUk"
      },
      "source": [
        "# 6.) Using a for loop, make your own train-test split and determine the best max_depth for out-of sample accuracy"
      ]
    },
    {
      "cell_type": "code",
      "source": [
        "outputs = []\n",
        "\n",
        "# create train-test split\n",
        "from sklearn.model_selection import train_test_split\n",
        "X_train, X_test, y_train, y_test = train_test_split(X, y, test_size = 0.3)\n",
        "\n",
        "from sklearn.metrics import accuracy_score\n",
        "# calculate out of sample accuracy\n",
        "for md in range(1,101):\n",
        "  clf = tree.DecisionTreeClassifier(max_depth = md)\n",
        "  clf.fit(X_train,y_train)\n",
        "  y_pred = clf.predict(X_test)\n",
        "  oos_accuracy =  accuracy_score(y_test, y_pred)\n",
        "  outputs.append(oos_accuracy)"
      ],
      "metadata": {
        "id": "eUiflO2ZYIWy"
      },
      "execution_count": null,
      "outputs": []
    },
    {
      "cell_type": "code",
      "execution_count": null,
      "metadata": {
        "id": "Ipen76Wied8R",
        "colab": {
          "base_uri": "https://localhost:8080/",
          "height": 320
        },
        "outputId": "7b0fb453-3fd4-4989-991e-60ac8fffaa80"
      },
      "outputs": [
        {
          "output_type": "display_data",
          "data": {
            "text/plain": [
              "<Figure size 720x360 with 1 Axes>"
            ],
            "image/png": "[encoded data removed]"
          },
          "metadata": {
            "needs_background": "light"
          }
        }
      ],
      "source": [
        "x = range(1,101)\n",
        "plt.figure(figsize = (10,5))\n",
        "plt.plot(x, outputs)\n",
        "plt.grid()"
      ]
    },
    {
      "cell_type": "code",
      "source": [
        "outputs.index(max(outputs))"
      ],
      "metadata": {
        "id": "fEcAXniNafU7",
        "colab": {
          "base_uri": "https://localhost:8080/"
        },
        "outputId": "6afc716f-1715-4576-8f3b-84bdab96d04e"
      },
      "execution_count": null,
      "outputs": [
        {
          "output_type": "execute_result",
          "data": {
            "text/plain": [
              "38"
            ]
          },
          "metadata": {},
          "execution_count": 16
        }
      ]
    },
    {
      "cell_type": "code",
      "source": [
        "max(outputs)"
      ],
      "metadata": {
        "colab": {
          "base_uri": "https://localhost:8080/"
        },
        "id": "3WtYncpZ4VKN",
        "outputId": "2b31c5ee-813b-44a6-ad4c-9b5199ecaf15"
      },
      "execution_count": 17,
      "outputs": [
        {
          "output_type": "execute_result",
          "data": {
            "text/plain": [
              "0.5713134400217703"
            ]
          },
          "metadata": {},
          "execution_count": 17
        }
      ]
    },
    {
      "cell_type": "markdown",
      "source": [
        "The max depths with the highest accuracy is 39 and the highest accuracy is 0.5713134400217703."
      ],
      "metadata": {
        "id": "Mgc_Cqkdbxj7"
      }
    }
  ],
  "metadata": {
    "colab": {
      "provenance": [],
      "include_colab_link": true
    },
    "kernelspec": {
      "display_name": "Python 3",
      "name": "python3"
    },
    "language_info": {
      "name": "python"
    }
  },
  "nbformat": 4,
  "nbformat_minor": 0
}