{
  "nbformat": 4,
  "nbformat_minor": 0,
  "metadata": {
    "colab": {
      "provenance": [],
      "toc_visible": true
    },
    "kernelspec": {
      "name": "python3",
      "display_name": "Python 3"
    },
    "language_info": {
      "name": "python"
    }
  },
  "cells": [
    {
      "cell_type": "markdown",
      "source": [
        "# Step 1: Import Packages"
      ],
      "metadata": {
        "id": "T5K1DKmgiDZ4"
      }
    },
    {
      "cell_type": "code",
      "execution_count": 16,
      "metadata": {
        "id": "wrjhfckngfpa"
      },
      "outputs": [],
      "source": [
        "import pandas as pd\n",
        "from google.colab import drive\n",
        "import matplotlib.pyplot as plt"
      ]
    },
    {
      "cell_type": "markdown",
      "source": [
        "# Step 2: Connect to Google Drive"
      ],
      "metadata": {
        "id": "tu4oIel7iIiE"
      }
    },
    {
      "cell_type": "code",
      "source": [
        "drive.mount('/content/gdrive/',force_remount = True)"
      ],
      "metadata": {
        "colab": {
          "base_uri": "https://localhost:8080/"
        },
        "id": "59h2L9VHgi7l",
        "outputId": "3c49555b-d67c-47d9-9b1c-985e432f0f71"
      },
      "execution_count": 17,
      "outputs": [
        {
          "output_type": "stream",
          "name": "stdout",
          "text": [
            "Mounted at /content/gdrive/\n"
          ]
        }
      ]
    },
    {
      "cell_type": "markdown",
      "source": [
        "# Step 3: Read File"
      ],
      "metadata": {
        "id": "Yfyisjk0iIOF"
      }
    },
    {
      "cell_type": "code",
      "source": [
        "df = pd.read_csv(\"/content/gdrive/MyDrive/441B/GDP.csv\")"
      ],
      "metadata": {
        "id": "9KY9qyDVhFPS"
      },
      "execution_count": 18,
      "outputs": []
    },
    {
      "cell_type": "markdown",
      "source": [
        "# Step 4: Data Cleaning and Viz"
      ],
      "metadata": {
        "id": "hyOY1et7idAq"
      }
    },
    {
      "cell_type": "code",
      "source": [
        "plt.plot(df[\"GDP\"])\n",
        "plt.title(\"National GDP\")\n",
        "plt.ylabel(\"GDP\")\n",
        "plt.xlabel(\"Time\")\n",
        "plt.grid()\n",
        "plt.show()"
      ],
      "metadata": {
        "colab": {
          "base_uri": "https://localhost:8080/",
          "height": 295
        },
        "id": "FrZumBIEilDs",
        "outputId": "a9fac6cd-9f7f-4f77-fc4a-2836699e7138"
      },
      "execution_count": 19,
      "outputs": [
        {
          "output_type": "display_data",
          "data": {
            "text/plain": [
              "<Figure size 432x288 with 1 Axes>"
            ],
            "image/png": "[encoded data removed]"
          },
          "metadata": {
            "needs_background": "light"
          }
        }
      ]
    }
  ]
}